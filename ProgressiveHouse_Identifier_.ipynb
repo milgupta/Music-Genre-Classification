{
  "nbformat": 4,
  "nbformat_minor": 0,
  "metadata": {
    "colab": {
      "provenance": []
    },
    "kernelspec": {
      "name": "python3",
      "display_name": "Python 3"
    },
    "language_info": {
      "name": "python"
    }
  },
  "cells": [
    {
      "cell_type": "code",
      "source": [
        "pip install librosa pydub"
      ],
      "metadata": {
        "colab": {
          "base_uri": "https://localhost:8080/"
        },
        "id": "ffQzgztOplZH",
        "outputId": "9fc6869f-4fb9-465c-8ad9-0c09684ba8ac"
      },
      "execution_count": 2,
      "outputs": [
        {
          "output_type": "stream",
          "name": "stdout",
          "text": [
            "Requirement already satisfied: librosa in /usr/local/lib/python3.10/dist-packages (0.10.1)\n",
            "Collecting pydub\n",
            "  Downloading pydub-0.25.1-py2.py3-none-any.whl (32 kB)\n",
            "Requirement already satisfied: audioread>=2.1.9 in /usr/local/lib/python3.10/dist-packages (from librosa) (3.0.1)\n",
            "Requirement already satisfied: numpy!=1.22.0,!=1.22.1,!=1.22.2,>=1.20.3 in /usr/local/lib/python3.10/dist-packages (from librosa) (1.23.5)\n",
            "Requirement already satisfied: scipy>=1.2.0 in /usr/local/lib/python3.10/dist-packages (from librosa) (1.11.4)\n",
            "Requirement already satisfied: scikit-learn>=0.20.0 in /usr/local/lib/python3.10/dist-packages (from librosa) (1.2.2)\n",
            "Requirement already satisfied: joblib>=0.14 in /usr/local/lib/python3.10/dist-packages (from librosa) (1.3.2)\n",
            "Requirement already satisfied: decorator>=4.3.0 in /usr/local/lib/python3.10/dist-packages (from librosa) (4.4.2)\n",
            "Requirement already satisfied: numba>=0.51.0 in /usr/local/lib/python3.10/dist-packages (from librosa) (0.58.1)\n",
            "Requirement already satisfied: soundfile>=0.12.1 in /usr/local/lib/python3.10/dist-packages (from librosa) (0.12.1)\n",
            "Requirement already satisfied: pooch>=1.0 in /usr/local/lib/python3.10/dist-packages (from librosa) (1.8.0)\n",
            "Requirement already satisfied: soxr>=0.3.2 in /usr/local/lib/python3.10/dist-packages (from librosa) (0.3.7)\n",
            "Requirement already satisfied: typing-extensions>=4.1.1 in /usr/local/lib/python3.10/dist-packages (from librosa) (4.9.0)\n",
            "Requirement already satisfied: lazy-loader>=0.1 in /usr/local/lib/python3.10/dist-packages (from librosa) (0.3)\n",
            "Requirement already satisfied: msgpack>=1.0 in /usr/local/lib/python3.10/dist-packages (from librosa) (1.0.7)\n",
            "Requirement already satisfied: llvmlite<0.42,>=0.41.0dev0 in /usr/local/lib/python3.10/dist-packages (from numba>=0.51.0->librosa) (0.41.1)\n",
            "Requirement already satisfied: platformdirs>=2.5.0 in /usr/local/lib/python3.10/dist-packages (from pooch>=1.0->librosa) (4.2.0)\n",
            "Requirement already satisfied: packaging>=20.0 in /usr/local/lib/python3.10/dist-packages (from pooch>=1.0->librosa) (23.2)\n",
            "Requirement already satisfied: requests>=2.19.0 in /usr/local/lib/python3.10/dist-packages (from pooch>=1.0->librosa) (2.31.0)\n",
            "Requirement already satisfied: threadpoolctl>=2.0.0 in /usr/local/lib/python3.10/dist-packages (from scikit-learn>=0.20.0->librosa) (3.2.0)\n",
            "Requirement already satisfied: cffi>=1.0 in /usr/local/lib/python3.10/dist-packages (from soundfile>=0.12.1->librosa) (1.16.0)\n",
            "Requirement already satisfied: pycparser in /usr/local/lib/python3.10/dist-packages (from cffi>=1.0->soundfile>=0.12.1->librosa) (2.21)\n",
            "Requirement already satisfied: charset-normalizer<4,>=2 in /usr/local/lib/python3.10/dist-packages (from requests>=2.19.0->pooch>=1.0->librosa) (3.3.2)\n",
            "Requirement already satisfied: idna<4,>=2.5 in /usr/local/lib/python3.10/dist-packages (from requests>=2.19.0->pooch>=1.0->librosa) (3.6)\n",
            "Requirement already satisfied: urllib3<3,>=1.21.1 in /usr/local/lib/python3.10/dist-packages (from requests>=2.19.0->pooch>=1.0->librosa) (2.0.7)\n",
            "Requirement already satisfied: certifi>=2017.4.17 in /usr/local/lib/python3.10/dist-packages (from requests>=2.19.0->pooch>=1.0->librosa) (2024.2.2)\n",
            "Installing collected packages: pydub\n",
            "Successfully installed pydub-0.25.1\n"
          ]
        }
      ]
    },
    {
      "cell_type": "markdown",
      "source": [
        "### Load the Data via Librosa\n"
      ],
      "metadata": {
        "id": "vqfqzqbOr23-"
      }
    },
    {
      "cell_type": "code",
      "source": [
        "import librosa\n",
        "import librosa.display\n",
        "import matplotlib.pyplot as plt\n",
        "from pydub import AudioSegment\n",
        "import zipfile\n",
        "import io\n",
        "import os\n",
        "\n"
      ],
      "metadata": {
        "id": "IgEtPc2krq1E"
      },
      "execution_count": 3,
      "outputs": []
    },
    {
      "cell_type": "code",
      "source": [
        "folder_path = '/content/drive/MyDrive/MP3-Example'\n",
        "\n",
        "genres = os.listdir(folder_path)\n",
        "genres.remove('.DS_Store')\n",
        "print(genres)"
      ],
      "metadata": {
        "colab": {
          "base_uri": "https://localhost:8080/"
        },
        "id": "kWCnVOcO1WHz",
        "outputId": "534b54d8-22eb-418c-f465-f28c63bb7f74"
      },
      "execution_count": 4,
      "outputs": [
        {
          "output_type": "stream",
          "name": "stdout",
          "text": [
            "['New Age', 'Electronic', 'Blues', 'World', 'Rock', 'RnB', 'Pop', 'Metal', 'Latin', 'Reggae', 'Jazz', 'Rap', 'Country', 'Folk', 'Punk']\n"
          ]
        }
      ]
    },
    {
      "cell_type": "markdown",
      "source": [
        "### Convert the files to .wav\n"
      ],
      "metadata": {
        "id": "SYbkCm3l3rCv"
      }
    },
    {
      "cell_type": "code",
      "source": [
        "data = []\n",
        "\n",
        "for genre in genres:\n",
        "    genre_folder_path = os.path.join(folder_path, genre)\n",
        "    if genre_folder_path == \"/content/MP3-Example/.DS_Store\":\n",
        "      continue\n",
        "    for filename in os.listdir(genre_folder_path):\n",
        "\n",
        "        #check iof the file is an mp3\n",
        "        if filename.endswith(\".mp3\"):\n",
        "            mp3_audio_path = os.path.join(genre_folder_path, filename)\n",
        "\n",
        "            # Convert MP3 to WAV using pydub\n",
        "            audio = AudioSegment.from_mp3(mp3_audio_path)\n",
        "            audio.export('temp.wav', format='wav')\n",
        "\n",
        "            # Load the WAV file with librosa\n",
        "            wav_audio_path = 'temp.wav'\n",
        "            y, sr = librosa.load(wav_audio_path, duration=30)  # Load the first 30 seconds so all the audio files have the same length\n",
        "\n",
        "            #y represents the audio time series\n",
        "            #sr represents the sampling rate, maybe try to reduce this as it is a high number\n",
        "            #n_mfcc represents the number of MFCC's to return\n",
        "            mfccs = librosa.feature.mfcc(y=y, sr=sr, n_mfcc=13)\n",
        "            # Visualize the waveform\n",
        "            \"\"\"plt.figure(figsize=(12, 4))\n",
        "            librosa.display.waveshow(y, sr=sr)\n",
        "            plt.title(f'{genre} - {filename} - Waveform')\n",
        "            plt.show()\"\"\"\n",
        "\n",
        "            # Append the loaded data to the dataset\n",
        "            data.append((mfccs, genre))\n",
        "\n",
        "# Clean up temporary files that are no longer needed\n",
        "os.remove('temp.wav')"
      ],
      "metadata": {
        "id": "FxsIomR03BXc"
      },
      "execution_count": 5,
      "outputs": []
    },
    {
      "cell_type": "markdown",
      "source": [
        "###Now Build the Model\n"
      ],
      "metadata": {
        "id": "6dq2FsGN4i5z"
      }
    },
    {
      "cell_type": "code",
      "source": [
        "import numpy as np\n",
        "from sklearn.model_selection import train_test_split\n",
        "from sklearn.preprocessing import LabelEncoder\n",
        "from keras.models import Sequential\n",
        "from keras.layers import Conv2D, MaxPooling2D, Flatten, Dense\n",
        "from keras.utils import to_categorical\n",
        "\n",
        "x = []\n",
        "y = []\n",
        "\n",
        "for song in data:\n",
        "  x.append(song[0])\n",
        "  y.append(song[1])\n",
        "\n",
        "song_data = np.array(x)\n",
        "genres = np.array(y)\n",
        "\n",
        "X = song_data.reshape(song_data.shape[0], song_data.shape[1], song_data.shape[2], 1)\n",
        "\n",
        "print(X.shape)\n",
        "\n",
        "label_encoder = LabelEncoder()\n",
        "y_encoded = label_encoder.fit_transform(genre)\n",
        "num_classes = len(label_encoder.classes_)\n",
        "y_categorical = to_categorical(y_encoded, num_classes=num_classes)\n",
        "\n",
        "# Split data into training and testing sets\n",
        "X_train, X_test, y_train, y_test = train_test_split(X, y_categorical, test_size=0.2, random_state=42)\n",
        "\n",
        "# Define CNN model\n",
        "model = Sequential([\n",
        "    Conv2D(32, kernel_size=(3, 3), activation='relu', input_shape=X_train.shape[1:]),\n",
        "    MaxPooling2D(pool_size=(2, 2)),\n",
        "    Conv2D(64, kernel_size=(3, 3), activation='relu'),\n",
        "    MaxPooling2D(pool_size=(2, 2)),\n",
        "    Flatten(),\n",
        "    Dense(128, activation='relu'),\n",
        "    Dense(num_classes, activation='softmax')\n",
        "])\n",
        "\n",
        "# Compile model\n",
        "model.compile(optimizer='adam', loss='categorical_crossentropy', metrics=['accuracy'])\n",
        "\n",
        "# Train model\n",
        "model.fit(X_train, y_train, epochs=10, batch_size=32, validation_split=0.2)\n",
        "\n",
        "# Evaluate model\n",
        "loss, accuracy = model.evaluate(X_test, y_test)\n",
        "print(\"Test Loss:\", loss)\n",
        "print(\"Test Accuracy:\", accuracy)\n",
        "\n"
      ],
      "metadata": {
        "id": "iEYnGCOg3tdd",
        "colab": {
          "base_uri": "https://localhost:8080/"
        },
        "outputId": "87125207-0094-4fcc-93d7-3def3f46457a"
      },
      "execution_count": 46,
      "outputs": [
        {
          "output_type": "stream",
          "name": "stdout",
          "text": [
            "(1500, 13, 1292, 1)\n",
            "Epoch 1/10\n",
            "30/30 [==============================] - 17s 504ms/step - loss: 12.1549 - accuracy: 0.1010 - val_loss: 2.7730 - val_accuracy: 0.0625\n",
            "Epoch 2/10\n",
            "30/30 [==============================] - 15s 501ms/step - loss: 2.5527 - accuracy: 0.1750 - val_loss: 2.8155 - val_accuracy: 0.0708\n",
            "Epoch 3/10\n",
            "30/30 [==============================] - 14s 476ms/step - loss: 2.1299 - accuracy: 0.3917 - val_loss: 3.0898 - val_accuracy: 0.0333\n",
            "Epoch 4/10\n",
            "30/30 [==============================] - 14s 473ms/step - loss: 1.4586 - accuracy: 0.5990 - val_loss: 3.7327 - val_accuracy: 0.0667\n",
            "Epoch 5/10\n",
            "30/30 [==============================] - 14s 475ms/step - loss: 0.8972 - accuracy: 0.7792 - val_loss: 4.1949 - val_accuracy: 0.0667\n",
            "Epoch 6/10\n",
            "30/30 [==============================] - 14s 475ms/step - loss: 0.5668 - accuracy: 0.8875 - val_loss: 4.9084 - val_accuracy: 0.0708\n",
            "Epoch 7/10\n",
            "30/30 [==============================] - 14s 477ms/step - loss: 0.4517 - accuracy: 0.9167 - val_loss: 6.3703 - val_accuracy: 0.0458\n",
            "Epoch 8/10\n",
            "30/30 [==============================] - 14s 476ms/step - loss: 0.2305 - accuracy: 0.9510 - val_loss: 5.9208 - val_accuracy: 0.0500\n",
            "Epoch 9/10\n",
            "30/30 [==============================] - 14s 474ms/step - loss: 0.1503 - accuracy: 0.9740 - val_loss: 6.7663 - val_accuracy: 0.0750\n",
            "Epoch 10/10\n",
            "30/30 [==============================] - 14s 475ms/step - loss: 0.0684 - accuracy: 0.9906 - val_loss: 7.0232 - val_accuracy: 0.0667\n",
            "10/10 [==============================] - 1s 107ms/step - loss: 7.4406 - accuracy: 0.0900\n",
            "Test Loss: 7.440633296966553\n",
            "Test Accuracy: 0.09000000357627869\n"
          ]
        }
      ]
    },
    {
      "cell_type": "code",
      "source": [],
      "metadata": {
        "id": "g42SZE11A2A_"
      },
      "execution_count": null,
      "outputs": []
    }
  ]
}